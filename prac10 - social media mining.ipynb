{
 "cells": [
  {
   "cell_type": "markdown",
   "metadata": {
    "collapsed": true
   },
   "source": [
    "This practical note will introduce you to social media mining using Python.\n",
    "\n",
    "Outline of this practical:\n",
    "* Installation Python modules and registering for APIs\n",
    "* Introduction to concepts of SMAs: Challenges, methods, tools\n",
    "* Crawling: Streaming, searching and exporting social media data\n",
    "* Network Analysis: Centrality analysis, community detection, cluster labelling"
   ]
  },
  {
   "cell_type": "code",
   "execution_count": null,
   "metadata": {
    "collapsed": true
   },
   "outputs": [],
   "source": []
  }
 ],
 "metadata": {
  "kernelspec": {
   "display_name": "Python 3",
   "language": "python",
   "name": "python3"
  },
  "language_info": {
   "codemirror_mode": {
    "name": "ipython",
    "version": 3
   },
   "file_extension": ".py",
   "mimetype": "text/x-python",
   "name": "python",
   "nbconvert_exporter": "python",
   "pygments_lexer": "ipython3",
   "version": "3.6.1"
  }
 },
 "nbformat": 4,
 "nbformat_minor": 2
}
